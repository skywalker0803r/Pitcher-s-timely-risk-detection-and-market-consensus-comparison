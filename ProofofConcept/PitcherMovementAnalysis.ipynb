{
 "cells": [
  {
   "cell_type": "code",
   "execution_count": 2,
   "id": "fbed15f3",
   "metadata": {},
   "outputs": [],
   "source": [
    "from mediapipe import solutions as mp_solutions\n",
    "import cv2\n",
    "import numpy as np\n",
    "import mediapipe as mp\n",
    "\n",
    "mp_pose = mp.solutions.pose\n",
    "mp_drawing = mp_solutions.drawing_utils\n",
    "\n",
    "def draw_pose_on_image(image_path):\n",
    "    image = cv2.imread(image_path)\n",
    "    with mp_pose.Pose(static_image_mode=True) as pose:\n",
    "        results = pose.process(cv2.cvtColor(image, cv2.COLOR_BGR2RGB))\n",
    "        if results.pose_landmarks:\n",
    "            mp_drawing.draw_landmarks(image, results.pose_landmarks, mp_pose.POSE_CONNECTIONS)\n",
    "        cv2.imshow(\"Pose Landmarks\", image)\n",
    "        cv2.waitKey(0)\n",
    "        cv2.destroyAllWindows()\n",
    "draw_pose_on_image('pose_start.JPG')\n",
    "draw_pose_on_image('pose_end.JPG')"
   ]
  },
  {
   "cell_type": "code",
   "execution_count": 3,
   "id": "f5bfeccc",
   "metadata": {},
   "outputs": [
    {
     "name": "stdout",
     "output_type": "stream",
     "text": [
      "(33, 3) (33, 3)\n"
     ]
    }
   ],
   "source": [
    "import cv2\n",
    "import numpy as np\n",
    "import mediapipe as mp\n",
    "\n",
    "mp_pose = mp.solutions.pose\n",
    "\n",
    "def extract_reference_pose(image_path):\n",
    "    image = cv2.imread(image_path)\n",
    "    if image is None:\n",
    "        raise FileNotFoundError(f\"Image not found: {image_path}\")\n",
    "    \n",
    "    with mp_pose.Pose(static_image_mode=True) as pose:\n",
    "        image_rgb = cv2.cvtColor(image, cv2.COLOR_BGR2RGB)\n",
    "        results = pose.process(image_rgb)\n",
    "\n",
    "        if not results.pose_world_landmarks:\n",
    "            raise ValueError(\"Pose landmarks not detected in the image.\")\n",
    "\n",
    "        landmarks = results.pose_world_landmarks.landmark\n",
    "        pose_array = np.array([[lm.x, lm.y, lm.z] for lm in landmarks])  # (33, 3)\n",
    "        return pose_array\n",
    "reference_pose_start = extract_reference_pose('pose_start.JPG')\n",
    "reference_pose_end = extract_reference_pose('pose_end.JPG')\n",
    "print(reference_pose_start.shape,reference_pose_end.shape)"
   ]
  },
  {
   "cell_type": "code",
   "execution_count": 5,
   "id": "1c18dc58",
   "metadata": {},
   "outputs": [],
   "source": [
    "import cv2\n",
    "import mediapipe as mp\n",
    "import numpy as np\n",
    "import pandas as pd\n",
    "\n",
    "mp_pose = mp.solutions.pose\n",
    "mp_drawing = mp.solutions.drawing_utils\n",
    "\n",
    "def compute_similarity(pose1, pose2):\n",
    "    if pose1.shape != (33, 3) or pose2.shape != (33, 3):\n",
    "        return 0.0\n",
    "    dist = np.linalg.norm(pose1 - pose2)\n",
    "    ref_dist = np.linalg.norm(pose2)\n",
    "    return max(0.0, 1 - dist / (ref_dist + 1e-5))  # avoid divide by zero\n",
    "\n",
    "def extract_pose_landmarks(results):\n",
    "    if not results.pose_world_landmarks:\n",
    "        return None\n",
    "    landmarks = results.pose_world_landmarks.landmark\n",
    "    return np.array([[lm.x, lm.y, lm.z] for lm in landmarks])\n",
    "\n",
    "def generate_pose_data(input_path, reference_pose_start, reference_pose_end, output_path):\n",
    "    cap = cv2.VideoCapture(input_path)\n",
    "    width = int(cap.get(cv2.CAP_PROP_FRAME_WIDTH))\n",
    "    height = int(cap.get(cv2.CAP_PROP_FRAME_HEIGHT))\n",
    "    fps = cap.get(cv2.CAP_PROP_FPS)\n",
    "\n",
    "    out = cv2.VideoWriter(output_path, cv2.VideoWriter_fourcc(*'mp4v'), fps, (width, height))\n",
    "    history = []\n",
    "    with mp_pose.Pose(static_image_mode=False) as pose:\n",
    "        while cap.isOpened():\n",
    "            ret, frame = cap.read()\n",
    "            if not ret:\n",
    "                break\n",
    "\n",
    "            # Convert frame color\n",
    "            image_rgb = cv2.cvtColor(frame, cv2.COLOR_BGR2RGB)\n",
    "            results = pose.process(image_rgb)\n",
    "\n",
    "            if results.pose_landmarks:\n",
    "                mp_drawing.draw_landmarks(\n",
    "                    frame, results.pose_landmarks, mp_pose.POSE_CONNECTIONS)\n",
    "\n",
    "            # 取得 3D 姿勢資訊\n",
    "            landmarks_3d = extract_pose_landmarks(results)\n",
    "            if landmarks_3d is not None:\n",
    "                sim_start  = compute_similarity(landmarks_3d, reference_pose_start)\n",
    "                sim_end = compute_similarity(landmarks_3d, reference_pose_end)\n",
    "                history.append((sim_start, sim_end))\n",
    "\n",
    "                # 顯示相似度分數\n",
    "                cv2.putText(frame, f\"Start Pose Sim: {sim_start:.2f}\", (10, 30),\n",
    "                            cv2.FONT_HERSHEY_SIMPLEX, 0.8, (0, 255, 0), 2)\n",
    "                cv2.putText(frame, f\"End Pose Sim: {sim_end:.2f}\", (10, 60),\n",
    "                            cv2.FONT_HERSHEY_SIMPLEX, 0.8, (0, 128, 255), 2)\n",
    "\n",
    "            # 顯示與輸出\n",
    "            cv2.imshow(\"Pose Comparison\", frame)\n",
    "            out.write(frame)\n",
    "            if cv2.waitKey(1) & 0xFF == 27:\n",
    "                break\n",
    "\n",
    "    cap.release()\n",
    "    out.release()\n",
    "    cv2.destroyAllWindows()\n",
    "    return history\n",
    "\n",
    "history = generate_pose_data('pitch_0001.mp4', reference_pose_start, reference_pose_end, 'pitch_0001_detect.mp4')\n",
    "df = pd.DataFrame(history ,columns=['sim_start', 'sim_end'])\n"
   ]
  },
  {
   "cell_type": "code",
   "execution_count": 6,
   "id": "6e435ec8",
   "metadata": {},
   "outputs": [
    {
     "data": {
      "text/plain": [
       "sim_start    0.913429\n",
       "sim_end      0.793367\n",
       "dtype: float64"
      ]
     },
     "execution_count": 6,
     "metadata": {},
     "output_type": "execute_result"
    }
   ],
   "source": [
    "df.max()"
   ]
  },
  {
   "cell_type": "code",
   "execution_count": null,
   "id": "7ea0d73f",
   "metadata": {},
   "outputs": [],
   "source": []
  }
 ],
 "metadata": {
  "kernelspec": {
   "display_name": "pitch_pose_tcn",
   "language": "python",
   "name": "python3"
  },
  "language_info": {
   "codemirror_mode": {
    "name": "ipython",
    "version": 3
   },
   "file_extension": ".py",
   "mimetype": "text/x-python",
   "name": "python",
   "nbconvert_exporter": "python",
   "pygments_lexer": "ipython3",
   "version": "3.9.21"
  }
 },
 "nbformat": 4,
 "nbformat_minor": 5
}
