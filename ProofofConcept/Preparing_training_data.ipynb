{
 "cells": [
  {
   "cell_type": "markdown",
   "id": "869bc7b9",
   "metadata": {},
   "source": [
    "# 影片轉df函數"
   ]
  },
  {
   "cell_type": "code",
   "execution_count": 1,
   "id": "9c877a55",
   "metadata": {},
   "outputs": [],
   "source": [
    "import cv2\n",
    "import mediapipe as mp\n",
    "import pandas as pd\n",
    "\n",
    "def generate_pose_data(input_path):\n",
    "    # 初始化 MediaPipe Pose\n",
    "    mp_pose = mp.solutions.pose\n",
    "    pose = mp_pose.Pose(\n",
    "        static_image_mode=False,\n",
    "        model_complexity=2,\n",
    "        enable_segmentation=False,\n",
    "        min_detection_confidence=0.5\n",
    "    )\n",
    "    mp_drawing = mp.solutions.drawing_utils\n",
    "    mp_drawing_styles = mp.solutions.drawing_styles\n",
    "\n",
    "    # 輸入影片路徑\n",
    "    video_path = input_path\n",
    "    cap = cv2.VideoCapture(video_path)\n",
    "\n",
    "    # 儲存結果\n",
    "    results = []\n",
    "\n",
    "    frame_idx = 0\n",
    "    while cap.isOpened():\n",
    "        success, frame = cap.read()\n",
    "        if not success:\n",
    "            break\n",
    "\n",
    "        # 轉換顏色為 RGB\n",
    "        image = cv2.cvtColor(frame, cv2.COLOR_BGR2RGB)\n",
    "        image.flags.writeable = False\n",
    "        results_pose = pose.process(image)\n",
    "\n",
    "        image.flags.writeable = True\n",
    "        image = cv2.cvtColor(image, cv2.COLOR_RGB2BGR)\n",
    "\n",
    "        # 取得姿勢關鍵點並畫在畫面上\n",
    "        if results_pose.pose_landmarks:\n",
    "            landmarks = results_pose.pose_landmarks.landmark\n",
    "            for i, lm in enumerate(landmarks):\n",
    "                results.append({\n",
    "                    \"frame\": frame_idx,\n",
    "                    \"joint_id\": i,\n",
    "                    \"x\": lm.x,\n",
    "                    \"y\": lm.y,\n",
    "                    \"z\": lm.z,\n",
    "                    \"visibility\": lm.visibility\n",
    "                })\n",
    "\n",
    "            # 繪製骨架\n",
    "            mp_drawing.draw_landmarks(\n",
    "                image,\n",
    "                results_pose.pose_landmarks,\n",
    "                mp_pose.POSE_CONNECTIONS,\n",
    "                landmark_drawing_spec=mp_drawing_styles.get_default_pose_landmarks_style()\n",
    "            )\n",
    "\n",
    "        frame_idx += 1\n",
    "\n",
    "        # 顯示畫面\n",
    "        cv2.imshow(\"Pose Skeleton Overlay\", image)\n",
    "        if cv2.waitKey(1) & 0xFF == ord('q'):\n",
    "            break\n",
    "\n",
    "    cap.release()\n",
    "    cv2.destroyAllWindows()\n",
    "    pose.close()\n",
    "\n",
    "    # 儲存為 CSV\n",
    "    df = pd.DataFrame(results)\n",
    "    return df "
   ]
  },
  {
   "cell_type": "markdown",
   "id": "8ee490fb",
   "metadata": {},
   "source": [
    "# 依序將每一個影片轉成df格式"
   ]
  },
  {
   "cell_type": "code",
   "execution_count": 2,
   "id": "784a77cc",
   "metadata": {},
   "outputs": [
    {
     "name": "stderr",
     "output_type": "stream",
     "text": [
      "100%|██████████| 10/10 [03:59<00:00, 23.98s/it]\n"
     ]
    }
   ],
   "source": [
    "import os\n",
    "import glob\n",
    "from tqdm import tqdm\n",
    "\n",
    "df_list = {}\n",
    "\n",
    "# 假設 raw_video 是資料夾路徑\n",
    "folder_path = \"../clip_video\"\n",
    "\n",
    "# 利用 glob 找出所有符合 pitch_*.mp4 的檔案\n",
    "file_paths = glob.glob(os.path.join(folder_path, \"pitch_*.mp4\"))\n",
    "\n",
    "for path in tqdm(file_paths):\n",
    "    # 取出標號，假設是 pitch_後面接數字，檔名格式固定\n",
    "    filename = os.path.basename(path)  # 取檔名\n",
    "    # 取 pitch_ 後面跟著的標號 (不含副檔名)\n",
    "    # e.g. pitch_1.mp4 -> 1\n",
    "    pitch_id = filename.replace(\"pitch_\", \"\").replace(\".mp4\", \"\")\n",
    "    \n",
    "    # 呼叫 generate_pose_data 並存到字典\n",
    "    df_list[pitch_id] = generate_pose_data(path)\n"
   ]
  },
  {
   "cell_type": "code",
   "execution_count": 3,
   "id": "1fe50f4e",
   "metadata": {},
   "outputs": [
    {
     "data": {
      "text/plain": [
       "dict_keys(['0001_cropped_2_4', '0002_cropped_2_4', '0003_cropped_2_4', '0004_cropped_2_4', '0005_cropped_2_4', '0006_cropped_2_4', '0007_cropped_2_4', '0008_cropped_2_4', '0009_cropped_2_4', '0010_cropped_2_4'])"
      ]
     },
     "execution_count": 3,
     "metadata": {},
     "output_type": "execute_result"
    }
   ],
   "source": [
    "df_list.keys()"
   ]
  },
  {
   "cell_type": "code",
   "execution_count": 4,
   "id": "3f154f2f",
   "metadata": {},
   "outputs": [
    {
     "ename": "TypeError",
     "evalue": "'dict_keys' object is not subscriptable",
     "output_type": "error",
     "traceback": [
      "\u001b[1;31m---------------------------------------------------------------------------\u001b[0m",
      "\u001b[1;31mTypeError\u001b[0m                                 Traceback (most recent call last)",
      "Cell \u001b[1;32mIn[4], line 1\u001b[0m\n\u001b[1;32m----> 1\u001b[0m df_list[\u001b[43mdf_list\u001b[49m\u001b[38;5;241;43m.\u001b[39;49m\u001b[43mkeys\u001b[49m\u001b[43m(\u001b[49m\u001b[43m)\u001b[49m\u001b[43m[\u001b[49m\u001b[38;5;241;43m0\u001b[39;49m\u001b[43m]\u001b[49m]\n",
      "\u001b[1;31mTypeError\u001b[0m: 'dict_keys' object is not subscriptable"
     ]
    }
   ],
   "source": [
    "df_list[df_list.keys()[0]]"
   ]
  },
  {
   "cell_type": "code",
   "execution_count": null,
   "id": "52075eae",
   "metadata": {},
   "outputs": [
    {
     "name": "stderr",
     "output_type": "stream",
     "text": [
      "100%|██████████| 10/10 [00:00<00:00, 425.32it/s]\n"
     ]
    }
   ],
   "source": [
    "import numpy as np\n",
    "all_data = []\n",
    "for i in tqdm(df_list.keys()):\n",
    "    # 假設這是你的資料\n",
    "    df = df_list[i]\n",
    "\n",
    "    # 使用 pivot 將 joint_id 對應的 x, y, z 展開成欄位\n",
    "    df_pivot = df.pivot(index='frame', columns='joint_id', values=['x', 'y', 'z'])\n",
    "\n",
    "    # 將 multi-index 欄位轉為單一層級，欄位名稱格式為 'x_0', 'y_0', ..., 'z_32'\n",
    "    df_pivot.columns = [f'{coord}_{jid}' for coord, jid in df_pivot.columns]\n",
    "\n",
    "    # 如果需要重設 index（例如 frame 從欄位轉為普通欄）\n",
    "    df_pivot = df_pivot.reset_index(drop=True)\n",
    "\n",
    "    # 顯示結果\n",
    "    all_data.append(df_pivot.values[:100])\n",
    "all_data = np.array(all_data)"
   ]
  },
  {
   "cell_type": "code",
   "execution_count": null,
   "id": "514e5c62",
   "metadata": {},
   "outputs": [],
   "source": [
    "all_data.shape\n",
    "#保存all_data到train_data資料夾 命名為all_data #all_data是一個np array\n",
    "import numpy as np\n",
    "import os\n",
    "\n",
    "# 確保資料夾存在\n",
    "os.makedirs('../train_data', exist_ok=True)\n",
    "\n",
    "# 儲存 all_data 為 train_data/all_data.npy\n",
    "np.save('../train_data/all_data.npy', all_data)\n"
   ]
  },
  {
   "cell_type": "code",
   "execution_count": null,
   "id": "7a18c42f",
   "metadata": {},
   "outputs": [],
   "source": []
  },
  {
   "cell_type": "code",
   "execution_count": null,
   "id": "c8ca00e4",
   "metadata": {},
   "outputs": [],
   "source": []
  }
 ],
 "metadata": {
  "kernelspec": {
   "display_name": "pose_detect",
   "language": "python",
   "name": "python3"
  },
  "language_info": {
   "codemirror_mode": {
    "name": "ipython",
    "version": 3
   },
   "file_extension": ".py",
   "mimetype": "text/x-python",
   "name": "python",
   "nbconvert_exporter": "python",
   "pygments_lexer": "ipython3",
   "version": "3.9.21"
  }
 },
 "nbformat": 4,
 "nbformat_minor": 5
}
