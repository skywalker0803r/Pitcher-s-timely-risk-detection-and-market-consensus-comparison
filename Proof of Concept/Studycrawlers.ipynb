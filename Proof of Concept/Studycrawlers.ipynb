{
 "cells": [
  {
   "cell_type": "code",
   "execution_count": 35,
   "id": "7a245fe4",
   "metadata": {},
   "outputs": [
    {
     "ename": "NoSuchElementException",
     "evalue": "Message: no such element: Unable to locate element: {\"method\":\"css selector\",\"selector\":\"#ajaxTable_676979 > tbody > tr:nth-child(1) > td:nth-child(15) > a\"}\n  (Session info: chrome=136.0.7103.114); For documentation on this error, please visit: https://www.selenium.dev/documentation/webdriver/troubleshooting/errors#no-such-element-exception\nStacktrace:\n\tGetHandleVerifier [0x00007FF72576CF45+75717]\n\tGetHandleVerifier [0x00007FF72576CFA0+75808]\n\t(No symbol) [0x00007FF725538F9A]\n\t(No symbol) [0x00007FF72558F4C6]\n\t(No symbol) [0x00007FF72558F77C]\n\t(No symbol) [0x00007FF7255E2577]\n\t(No symbol) [0x00007FF7255B73BF]\n\t(No symbol) [0x00007FF7255DF39C]\n\t(No symbol) [0x00007FF7255B7153]\n\t(No symbol) [0x00007FF725580421]\n\t(No symbol) [0x00007FF7255811B3]\n\tGetHandleVerifier [0x00007FF725A6D71D+3223453]\n\tGetHandleVerifier [0x00007FF725A67CC2+3200322]\n\tGetHandleVerifier [0x00007FF725A85AF3+3322739]\n\tGetHandleVerifier [0x00007FF725786A1A+180890]\n\tGetHandleVerifier [0x00007FF72578E11F+211359]\n\tGetHandleVerifier [0x00007FF725775294+109332]\n\tGetHandleVerifier [0x00007FF725775442+109762]\n\tGetHandleVerifier [0x00007FF72575BA59+4825]\n\tBaseThreadInitThunk [0x00007FFC426CE8D7+23]\n\tRtlUserThreadStart [0x00007FFC4339C5DC+44]\n",
     "output_type": "error",
     "traceback": [
      "\u001b[1;31m---------------------------------------------------------------------------\u001b[0m",
      "\u001b[1;31mNoSuchElementException\u001b[0m                    Traceback (most recent call last)",
      "Cell \u001b[1;32mIn[35], line 12\u001b[0m\n\u001b[0;32m      9\u001b[0m driver\u001b[38;5;241m.\u001b[39mget(\u001b[38;5;124m\"\u001b[39m\u001b[38;5;124mhttps://baseballsavant.mlb.com/statcast_search?hfPT=&hfAB=&hfGT=R\u001b[39m\u001b[38;5;124m%\u001b[39m\u001b[38;5;124m7C&hfPR=&hfZ=&hfStadium=&hfBBL=&hfNewZones=&hfPull=&hfC=&hfSea=2025\u001b[39m\u001b[38;5;124m%\u001b[39m\u001b[38;5;124m7C&hfSit=&player_type=pitcher&hfOuts=&hfOpponent=&pitcher_throws=&batter_stands=&hfSA=&game_date_gt=&game_date_lt=&hfMo=&hfTeam=&home_road=&hfRO=&position=&hfInfield=&hfOutfield=&hfInn=&hfBBT=&hfFlag=&metric_1=&group_by=name&min_pitches=0&min_results=0&min_pas=0&sort_col=pitches&player_event_sort=api_p_release_speed&sort_order=desc#results\u001b[39m\u001b[38;5;124m\"\u001b[39m)\n\u001b[0;32m     11\u001b[0m \u001b[38;5;66;03m# 3. 找元素，例如依照id、class、xpath等\u001b[39;00m\n\u001b[1;32m---> 12\u001b[0m element \u001b[38;5;241m=\u001b[39m \u001b[43mdriver\u001b[49m\u001b[38;5;241;43m.\u001b[39;49m\u001b[43mfind_element\u001b[49m\u001b[43m(\u001b[49m\u001b[43mBy\u001b[49m\u001b[38;5;241;43m.\u001b[39;49m\u001b[43mCSS_SELECTOR\u001b[49m\u001b[43m,\u001b[49m\u001b[43m \u001b[49m\u001b[38;5;124;43m\"\u001b[39;49m\u001b[38;5;124;43m#ajaxTable_676979 > tbody > tr:nth-child(1) > td:nth-child(15) > a\u001b[39;49m\u001b[38;5;124;43m\"\u001b[39;49m\u001b[43m)\u001b[49m\n\u001b[0;32m     14\u001b[0m \u001b[38;5;66;03m# 4. 讀取文字或點擊、輸入\u001b[39;00m\n\u001b[0;32m     15\u001b[0m \u001b[38;5;28mprint\u001b[39m(element)       \u001b[38;5;66;03m# 讀取文字\u001b[39;00m\n",
      "File \u001b[1;32mc:\\Users\\TMP-214\\anaconda3\\envs\\pose_detect\\lib\\site-packages\\selenium\\webdriver\\remote\\webdriver.py:914\u001b[0m, in \u001b[0;36mWebDriver.find_element\u001b[1;34m(self, by, value)\u001b[0m\n\u001b[0;32m    911\u001b[0m         \u001b[38;5;28;01mraise\u001b[39;00m NoSuchElementException(\u001b[38;5;124mf\u001b[39m\u001b[38;5;124m\"\u001b[39m\u001b[38;5;124mCannot locate relative element with: \u001b[39m\u001b[38;5;132;01m{\u001b[39;00mby\u001b[38;5;241m.\u001b[39mroot\u001b[38;5;132;01m}\u001b[39;00m\u001b[38;5;124m\"\u001b[39m)\n\u001b[0;32m    912\u001b[0m     \u001b[38;5;28;01mreturn\u001b[39;00m elements[\u001b[38;5;241m0\u001b[39m]\n\u001b[1;32m--> 914\u001b[0m \u001b[38;5;28;01mreturn\u001b[39;00m \u001b[38;5;28;43mself\u001b[39;49m\u001b[38;5;241;43m.\u001b[39;49m\u001b[43mexecute\u001b[49m\u001b[43m(\u001b[49m\u001b[43mCommand\u001b[49m\u001b[38;5;241;43m.\u001b[39;49m\u001b[43mFIND_ELEMENT\u001b[49m\u001b[43m,\u001b[49m\u001b[43m \u001b[49m\u001b[43m{\u001b[49m\u001b[38;5;124;43m\"\u001b[39;49m\u001b[38;5;124;43musing\u001b[39;49m\u001b[38;5;124;43m\"\u001b[39;49m\u001b[43m:\u001b[49m\u001b[43m \u001b[49m\u001b[43mby\u001b[49m\u001b[43m,\u001b[49m\u001b[43m \u001b[49m\u001b[38;5;124;43m\"\u001b[39;49m\u001b[38;5;124;43mvalue\u001b[39;49m\u001b[38;5;124;43m\"\u001b[39;49m\u001b[43m:\u001b[49m\u001b[43m \u001b[49m\u001b[43mvalue\u001b[49m\u001b[43m}\u001b[49m\u001b[43m)\u001b[49m[\u001b[38;5;124m\"\u001b[39m\u001b[38;5;124mvalue\u001b[39m\u001b[38;5;124m\"\u001b[39m]\n",
      "File \u001b[1;32mc:\\Users\\TMP-214\\anaconda3\\envs\\pose_detect\\lib\\site-packages\\selenium\\webdriver\\remote\\webdriver.py:447\u001b[0m, in \u001b[0;36mWebDriver.execute\u001b[1;34m(self, driver_command, params)\u001b[0m\n\u001b[0;32m    445\u001b[0m response \u001b[38;5;241m=\u001b[39m \u001b[38;5;28mself\u001b[39m\u001b[38;5;241m.\u001b[39mcommand_executor\u001b[38;5;241m.\u001b[39mexecute(driver_command, params)\n\u001b[0;32m    446\u001b[0m \u001b[38;5;28;01mif\u001b[39;00m response:\n\u001b[1;32m--> 447\u001b[0m     \u001b[38;5;28;43mself\u001b[39;49m\u001b[38;5;241;43m.\u001b[39;49m\u001b[43merror_handler\u001b[49m\u001b[38;5;241;43m.\u001b[39;49m\u001b[43mcheck_response\u001b[49m\u001b[43m(\u001b[49m\u001b[43mresponse\u001b[49m\u001b[43m)\u001b[49m\n\u001b[0;32m    448\u001b[0m     response[\u001b[38;5;124m\"\u001b[39m\u001b[38;5;124mvalue\u001b[39m\u001b[38;5;124m\"\u001b[39m] \u001b[38;5;241m=\u001b[39m \u001b[38;5;28mself\u001b[39m\u001b[38;5;241m.\u001b[39m_unwrap_value(response\u001b[38;5;241m.\u001b[39mget(\u001b[38;5;124m\"\u001b[39m\u001b[38;5;124mvalue\u001b[39m\u001b[38;5;124m\"\u001b[39m, \u001b[38;5;28;01mNone\u001b[39;00m))\n\u001b[0;32m    449\u001b[0m     \u001b[38;5;28;01mreturn\u001b[39;00m response\n",
      "File \u001b[1;32mc:\\Users\\TMP-214\\anaconda3\\envs\\pose_detect\\lib\\site-packages\\selenium\\webdriver\\remote\\errorhandler.py:232\u001b[0m, in \u001b[0;36mErrorHandler.check_response\u001b[1;34m(self, response)\u001b[0m\n\u001b[0;32m    230\u001b[0m         alert_text \u001b[38;5;241m=\u001b[39m value[\u001b[38;5;124m\"\u001b[39m\u001b[38;5;124malert\u001b[39m\u001b[38;5;124m\"\u001b[39m]\u001b[38;5;241m.\u001b[39mget(\u001b[38;5;124m\"\u001b[39m\u001b[38;5;124mtext\u001b[39m\u001b[38;5;124m\"\u001b[39m)\n\u001b[0;32m    231\u001b[0m     \u001b[38;5;28;01mraise\u001b[39;00m exception_class(message, screen, stacktrace, alert_text)  \u001b[38;5;66;03m# type: ignore[call-arg]  # mypy is not smart enough here\u001b[39;00m\n\u001b[1;32m--> 232\u001b[0m \u001b[38;5;28;01mraise\u001b[39;00m exception_class(message, screen, stacktrace)\n",
      "\u001b[1;31mNoSuchElementException\u001b[0m: Message: no such element: Unable to locate element: {\"method\":\"css selector\",\"selector\":\"#ajaxTable_676979 > tbody > tr:nth-child(1) > td:nth-child(15) > a\"}\n  (Session info: chrome=136.0.7103.114); For documentation on this error, please visit: https://www.selenium.dev/documentation/webdriver/troubleshooting/errors#no-such-element-exception\nStacktrace:\n\tGetHandleVerifier [0x00007FF72576CF45+75717]\n\tGetHandleVerifier [0x00007FF72576CFA0+75808]\n\t(No symbol) [0x00007FF725538F9A]\n\t(No symbol) [0x00007FF72558F4C6]\n\t(No symbol) [0x00007FF72558F77C]\n\t(No symbol) [0x00007FF7255E2577]\n\t(No symbol) [0x00007FF7255B73BF]\n\t(No symbol) [0x00007FF7255DF39C]\n\t(No symbol) [0x00007FF7255B7153]\n\t(No symbol) [0x00007FF725580421]\n\t(No symbol) [0x00007FF7255811B3]\n\tGetHandleVerifier [0x00007FF725A6D71D+3223453]\n\tGetHandleVerifier [0x00007FF725A67CC2+3200322]\n\tGetHandleVerifier [0x00007FF725A85AF3+3322739]\n\tGetHandleVerifier [0x00007FF725786A1A+180890]\n\tGetHandleVerifier [0x00007FF72578E11F+211359]\n\tGetHandleVerifier [0x00007FF725775294+109332]\n\tGetHandleVerifier [0x00007FF725775442+109762]\n\tGetHandleVerifier [0x00007FF72575BA59+4825]\n\tBaseThreadInitThunk [0x00007FFC426CE8D7+23]\n\tRtlUserThreadStart [0x00007FFC4339C5DC+44]\n"
     ]
    }
   ],
   "source": [
    "from selenium import webdriver\n",
    "from selenium.webdriver.common.by import By\n",
    "import time\n",
    "\n",
    "# 1. 建立瀏覽器物件\n",
    "driver = webdriver.Chrome()  # 或指定路徑 webdriver.Chrome(executable_path='你的chromedriver路徑')\n",
    "\n",
    "# 2. 開啟網站\n",
    "driver.get(\"https://baseballsavant.mlb.com/statcast_search?hfPT=&hfAB=&hfGT=R%7C&hfPR=&hfZ=&hfStadium=&hfBBL=&hfNewZones=&hfPull=&hfC=&hfSea=2025%7C&hfSit=&player_type=pitcher&hfOuts=&hfOpponent=&pitcher_throws=&batter_stands=&hfSA=&game_date_gt=&game_date_lt=&hfMo=&hfTeam=&home_road=&hfRO=&position=&hfInfield=&hfOutfield=&hfInn=&hfBBT=&hfFlag=&metric_1=&group_by=name&min_pitches=0&min_results=0&min_pas=0&sort_col=pitches&player_event_sort=api_p_release_speed&sort_order=desc#results\")\n",
    "\n",
    "# 3. 找元素，例如依照id、class、xpath等\n",
    "element = driver.find_element(By.CSS_SELECTOR, \"#ajaxTable_676979 > tbody > tr:nth-child(1) > td:nth-child(15) > a\")\n",
    "\n",
    "# 4. 讀取文字或點擊、輸入\n",
    "print(element)       # 讀取文字\n",
    "#element.click()           # 點擊\n",
    "# element.send_keys(\"輸入的文字\")  # 輸入文字\n",
    "\n",
    "# 5. 等待（可用time.sleep或WebDriverWait）\n",
    "time.sleep(3)\n",
    "\n",
    "# 6. 關閉瀏覽器\n",
    "driver.quit()\n"
   ]
  },
  {
   "cell_type": "code",
   "execution_count": null,
   "id": "0a53376f",
   "metadata": {},
   "outputs": [],
   "source": []
  }
 ],
 "metadata": {
  "kernelspec": {
   "display_name": "pose_detect",
   "language": "python",
   "name": "python3"
  },
  "language_info": {
   "codemirror_mode": {
    "name": "ipython",
    "version": 3
   },
   "file_extension": ".py",
   "mimetype": "text/x-python",
   "name": "python",
   "nbconvert_exporter": "python",
   "pygments_lexer": "ipython3",
   "version": "3.9.21"
  }
 },
 "nbformat": 4,
 "nbformat_minor": 5
}
