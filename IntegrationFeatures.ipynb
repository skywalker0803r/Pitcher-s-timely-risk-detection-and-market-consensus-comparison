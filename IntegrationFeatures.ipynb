{
 "cells": [
  {
   "cell_type": "markdown",
   "id": "74d8e8a8",
   "metadata": {},
   "source": [
    "# 讀取姿勢特徵"
   ]
  },
  {
   "cell_type": "code",
   "execution_count": 119,
   "id": "ff3edb6e",
   "metadata": {},
   "outputs": [
    {
     "name": "stdout",
     "output_type": "stream",
     "text": [
      "共有 200 筆資料\n",
      "第一筆資料形狀： (4,)\n"
     ]
    }
   ],
   "source": [
    "import os\n",
    "import numpy as np\n",
    "\n",
    "# 指定資料夾路徑\n",
    "folder_path = 'data/Yu_Darvish_FF_videos_4S/features'\n",
    "\n",
    "# 取得所有 .npy 檔案的完整路徑\n",
    "npy_files = [os.path.join(folder_path, f) for f in os.listdir(folder_path) if f.endswith('.npy')]\n",
    "\n",
    "# 讀取所有 .npy 檔案並儲存在一個 list 中\n",
    "all_features = [np.load(f) for f in npy_files]\n",
    "\n",
    "# 可選：顯示第一筆資料的形狀來確認內容\n",
    "print(f\"共有 {len(all_features)} 筆資料\")\n",
    "print(\"第一筆資料形狀：\", all_features[0].shape)\n"
   ]
  },
  {
   "cell_type": "markdown",
   "id": "889d9a3c",
   "metadata": {},
   "source": [
    "# 整合姿勢特徵和CSV數據特徵"
   ]
  },
  {
   "cell_type": "code",
   "execution_count": 120,
   "id": "9b85f131",
   "metadata": {},
   "outputs": [
    {
     "name": "stdout",
     "output_type": "stream",
     "text": [
      "pose_feat shape: (200, 4)\n"
     ]
    },
    {
     "data": {
      "text/html": [
       "<div>\n",
       "<style scoped>\n",
       "    .dataframe tbody tr th:only-of-type {\n",
       "        vertical-align: middle;\n",
       "    }\n",
       "\n",
       "    .dataframe tbody tr th {\n",
       "        vertical-align: top;\n",
       "    }\n",
       "\n",
       "    .dataframe thead th {\n",
       "        text-align: right;\n",
       "    }\n",
       "</style>\n",
       "<table border=\"1\" class=\"dataframe\">\n",
       "  <thead>\n",
       "    <tr style=\"text-align: right;\">\n",
       "      <th></th>\n",
       "      <th>leg_angle</th>\n",
       "      <th>arm_symmetry</th>\n",
       "      <th>elbow_angle</th>\n",
       "      <th>hip_twist</th>\n",
       "    </tr>\n",
       "  </thead>\n",
       "  <tbody>\n",
       "    <tr>\n",
       "      <th>0</th>\n",
       "      <td>9.188042</td>\n",
       "      <td>0.985855</td>\n",
       "      <td>152.651703</td>\n",
       "      <td>0.132142</td>\n",
       "    </tr>\n",
       "    <tr>\n",
       "      <th>1</th>\n",
       "      <td>7.389526</td>\n",
       "      <td>0.986820</td>\n",
       "      <td>99.789989</td>\n",
       "      <td>0.112606</td>\n",
       "    </tr>\n",
       "    <tr>\n",
       "      <th>2</th>\n",
       "      <td>13.690172</td>\n",
       "      <td>0.994170</td>\n",
       "      <td>162.254310</td>\n",
       "      <td>0.084688</td>\n",
       "    </tr>\n",
       "    <tr>\n",
       "      <th>3</th>\n",
       "      <td>21.226712</td>\n",
       "      <td>0.988464</td>\n",
       "      <td>118.585723</td>\n",
       "      <td>0.104180</td>\n",
       "    </tr>\n",
       "    <tr>\n",
       "      <th>4</th>\n",
       "      <td>15.912408</td>\n",
       "      <td>0.989651</td>\n",
       "      <td>174.722999</td>\n",
       "      <td>0.109520</td>\n",
       "    </tr>\n",
       "  </tbody>\n",
       "</table>\n",
       "</div>"
      ],
      "text/plain": [
       "   leg_angle  arm_symmetry  elbow_angle  hip_twist\n",
       "0   9.188042      0.985855   152.651703   0.132142\n",
       "1   7.389526      0.986820    99.789989   0.112606\n",
       "2  13.690172      0.994170   162.254310   0.084688\n",
       "3  21.226712      0.988464   118.585723   0.104180\n",
       "4  15.912408      0.989651   174.722999   0.109520"
      ]
     },
     "metadata": {},
     "output_type": "display_data"
    },
    {
     "name": "stdout",
     "output_type": "stream",
     "text": [
      "csv_feat shape: (759, 119)\n"
     ]
    },
    {
     "data": {
      "text/html": [
       "<div>\n",
       "<style scoped>\n",
       "    .dataframe tbody tr th:only-of-type {\n",
       "        vertical-align: middle;\n",
       "    }\n",
       "\n",
       "    .dataframe tbody tr th {\n",
       "        vertical-align: top;\n",
       "    }\n",
       "\n",
       "    .dataframe thead th {\n",
       "        text-align: right;\n",
       "    }\n",
       "</style>\n",
       "<table border=\"1\" class=\"dataframe\">\n",
       "  <thead>\n",
       "    <tr style=\"text-align: right;\">\n",
       "      <th></th>\n",
       "      <th>video_filename</th>\n",
       "      <th>pitch_type</th>\n",
       "      <th>game_date</th>\n",
       "      <th>release_speed</th>\n",
       "      <th>release_pos_x</th>\n",
       "      <th>release_pos_z</th>\n",
       "      <th>player_name</th>\n",
       "      <th>batter</th>\n",
       "      <th>pitcher</th>\n",
       "      <th>events</th>\n",
       "      <th>...</th>\n",
       "      <th>batter_days_until_next_game</th>\n",
       "      <th>api_break_z_with_gravity</th>\n",
       "      <th>api_break_x_arm</th>\n",
       "      <th>api_break_x_batter_in</th>\n",
       "      <th>arm_angle</th>\n",
       "      <th>attack_angle</th>\n",
       "      <th>attack_direction</th>\n",
       "      <th>swing_path_tilt</th>\n",
       "      <th>intercept_ball_minus_batter_pos_x_inches</th>\n",
       "      <th>intercept_ball_minus_batter_pos_y_inches</th>\n",
       "    </tr>\n",
       "  </thead>\n",
       "  <tbody>\n",
       "    <tr>\n",
       "      <th>0</th>\n",
       "      <td>pitch_0001.mp4</td>\n",
       "      <td>FF</td>\n",
       "      <td>2022/9/30</td>\n",
       "      <td>91.3</td>\n",
       "      <td>-2.31</td>\n",
       "      <td>5.34</td>\n",
       "      <td>Darvish, Yu</td>\n",
       "      <td>543281</td>\n",
       "      <td>506433</td>\n",
       "      <td>NaN</td>\n",
       "      <td>...</td>\n",
       "      <td>1.0</td>\n",
       "      <td>1.27</td>\n",
       "      <td>0.37</td>\n",
       "      <td>0.37</td>\n",
       "      <td>38.7</td>\n",
       "      <td>NaN</td>\n",
       "      <td>NaN</td>\n",
       "      <td>NaN</td>\n",
       "      <td>NaN</td>\n",
       "      <td>NaN</td>\n",
       "    </tr>\n",
       "    <tr>\n",
       "      <th>1</th>\n",
       "      <td>pitch_0002.mp4</td>\n",
       "      <td>FF</td>\n",
       "      <td>2022/9/30</td>\n",
       "      <td>91.9</td>\n",
       "      <td>-2.02</td>\n",
       "      <td>5.54</td>\n",
       "      <td>Darvish, Yu</td>\n",
       "      <td>543281</td>\n",
       "      <td>506433</td>\n",
       "      <td>NaN</td>\n",
       "      <td>...</td>\n",
       "      <td>1.0</td>\n",
       "      <td>1.28</td>\n",
       "      <td>0.51</td>\n",
       "      <td>0.51</td>\n",
       "      <td>44.1</td>\n",
       "      <td>NaN</td>\n",
       "      <td>NaN</td>\n",
       "      <td>NaN</td>\n",
       "      <td>NaN</td>\n",
       "      <td>NaN</td>\n",
       "    </tr>\n",
       "    <tr>\n",
       "      <th>2</th>\n",
       "      <td>pitch_0003.mp4</td>\n",
       "      <td>FF</td>\n",
       "      <td>2022/9/30</td>\n",
       "      <td>94.2</td>\n",
       "      <td>-2.13</td>\n",
       "      <td>5.39</td>\n",
       "      <td>Darvish, Yu</td>\n",
       "      <td>656024</td>\n",
       "      <td>506433</td>\n",
       "      <td>field_out</td>\n",
       "      <td>...</td>\n",
       "      <td>2.0</td>\n",
       "      <td>1.09</td>\n",
       "      <td>0.42</td>\n",
       "      <td>0.42</td>\n",
       "      <td>40.3</td>\n",
       "      <td>NaN</td>\n",
       "      <td>NaN</td>\n",
       "      <td>NaN</td>\n",
       "      <td>NaN</td>\n",
       "      <td>NaN</td>\n",
       "    </tr>\n",
       "    <tr>\n",
       "      <th>3</th>\n",
       "      <td>pitch_0004.mp4</td>\n",
       "      <td>FF</td>\n",
       "      <td>2022/9/30</td>\n",
       "      <td>93.7</td>\n",
       "      <td>-2.54</td>\n",
       "      <td>5.25</td>\n",
       "      <td>Darvish, Yu</td>\n",
       "      <td>660162</td>\n",
       "      <td>506433</td>\n",
       "      <td>double</td>\n",
       "      <td>...</td>\n",
       "      <td>1.0</td>\n",
       "      <td>1.19</td>\n",
       "      <td>0.84</td>\n",
       "      <td>-0.84</td>\n",
       "      <td>32.1</td>\n",
       "      <td>NaN</td>\n",
       "      <td>NaN</td>\n",
       "      <td>NaN</td>\n",
       "      <td>NaN</td>\n",
       "      <td>NaN</td>\n",
       "    </tr>\n",
       "    <tr>\n",
       "      <th>4</th>\n",
       "      <td>pitch_0005.mp4</td>\n",
       "      <td>FF</td>\n",
       "      <td>2022/9/30</td>\n",
       "      <td>92.3</td>\n",
       "      <td>-2.56</td>\n",
       "      <td>5.26</td>\n",
       "      <td>Darvish, Yu</td>\n",
       "      <td>657757</td>\n",
       "      <td>506433</td>\n",
       "      <td>NaN</td>\n",
       "      <td>...</td>\n",
       "      <td>1.0</td>\n",
       "      <td>1.22</td>\n",
       "      <td>0.86</td>\n",
       "      <td>-0.86</td>\n",
       "      <td>32.4</td>\n",
       "      <td>NaN</td>\n",
       "      <td>NaN</td>\n",
       "      <td>NaN</td>\n",
       "      <td>NaN</td>\n",
       "      <td>NaN</td>\n",
       "    </tr>\n",
       "  </tbody>\n",
       "</table>\n",
       "<p>5 rows × 119 columns</p>\n",
       "</div>"
      ],
      "text/plain": [
       "   video_filename pitch_type  game_date  release_speed  release_pos_x  \\\n",
       "0  pitch_0001.mp4         FF  2022/9/30           91.3          -2.31   \n",
       "1  pitch_0002.mp4         FF  2022/9/30           91.9          -2.02   \n",
       "2  pitch_0003.mp4         FF  2022/9/30           94.2          -2.13   \n",
       "3  pitch_0004.mp4         FF  2022/9/30           93.7          -2.54   \n",
       "4  pitch_0005.mp4         FF  2022/9/30           92.3          -2.56   \n",
       "\n",
       "   release_pos_z  player_name  batter  pitcher     events  ...  \\\n",
       "0           5.34  Darvish, Yu  543281   506433        NaN  ...   \n",
       "1           5.54  Darvish, Yu  543281   506433        NaN  ...   \n",
       "2           5.39  Darvish, Yu  656024   506433  field_out  ...   \n",
       "3           5.25  Darvish, Yu  660162   506433     double  ...   \n",
       "4           5.26  Darvish, Yu  657757   506433        NaN  ...   \n",
       "\n",
       "  batter_days_until_next_game  api_break_z_with_gravity  api_break_x_arm  \\\n",
       "0                         1.0                      1.27             0.37   \n",
       "1                         1.0                      1.28             0.51   \n",
       "2                         2.0                      1.09             0.42   \n",
       "3                         1.0                      1.19             0.84   \n",
       "4                         1.0                      1.22             0.86   \n",
       "\n",
       "   api_break_x_batter_in  arm_angle  attack_angle attack_direction  \\\n",
       "0                   0.37       38.7           NaN              NaN   \n",
       "1                   0.51       44.1           NaN              NaN   \n",
       "2                   0.42       40.3           NaN              NaN   \n",
       "3                  -0.84       32.1           NaN              NaN   \n",
       "4                  -0.86       32.4           NaN              NaN   \n",
       "\n",
       "  swing_path_tilt intercept_ball_minus_batter_pos_x_inches  \\\n",
       "0             NaN                                      NaN   \n",
       "1             NaN                                      NaN   \n",
       "2             NaN                                      NaN   \n",
       "3             NaN                                      NaN   \n",
       "4             NaN                                      NaN   \n",
       "\n",
       "  intercept_ball_minus_batter_pos_y_inches  \n",
       "0                                      NaN  \n",
       "1                                      NaN  \n",
       "2                                      NaN  \n",
       "3                                      NaN  \n",
       "4                                      NaN  \n",
       "\n",
       "[5 rows x 119 columns]"
      ]
     },
     "metadata": {},
     "output_type": "display_data"
    }
   ],
   "source": [
    "import pandas as pd\n",
    "columns = [\"leg_angle\",\"arm_symmetry\",\"elbow_angle\",\"hip_twist\"]\n",
    "all_features_array = np.stack(all_features)\n",
    "pose_feat = pd.DataFrame(all_features_array,columns=columns)\n",
    "print(f\"pose_feat shape: {pose_feat.shape}\")\n",
    "display(pose_feat.head())\n",
    "csv_feat = pd.read_csv('data/Downloads/Yu_Darvish_FF_with_videos.csv')\n",
    "print(f\"csv_feat shape: {csv_feat.shape}\")\n",
    "display(csv_feat.head())"
   ]
  },
  {
   "cell_type": "markdown",
   "id": "736c5a3f",
   "metadata": {},
   "source": [
    "# Join data"
   ]
  },
  {
   "cell_type": "code",
   "execution_count": 121,
   "id": "24a07db5",
   "metadata": {},
   "outputs": [
    {
     "data": {
      "text/html": [
       "<div>\n",
       "<style scoped>\n",
       "    .dataframe tbody tr th:only-of-type {\n",
       "        vertical-align: middle;\n",
       "    }\n",
       "\n",
       "    .dataframe tbody tr th {\n",
       "        vertical-align: top;\n",
       "    }\n",
       "\n",
       "    .dataframe thead th {\n",
       "        text-align: right;\n",
       "    }\n",
       "</style>\n",
       "<table border=\"1\" class=\"dataframe\">\n",
       "  <thead>\n",
       "    <tr style=\"text-align: right;\">\n",
       "      <th></th>\n",
       "      <th>leg_angle</th>\n",
       "      <th>arm_symmetry</th>\n",
       "      <th>elbow_angle</th>\n",
       "      <th>hip_twist</th>\n",
       "      <th>description</th>\n",
       "    </tr>\n",
       "  </thead>\n",
       "  <tbody>\n",
       "    <tr>\n",
       "      <th>0</th>\n",
       "      <td>9.188042</td>\n",
       "      <td>0.985855</td>\n",
       "      <td>152.651703</td>\n",
       "      <td>0.132142</td>\n",
       "      <td>ball</td>\n",
       "    </tr>\n",
       "    <tr>\n",
       "      <th>1</th>\n",
       "      <td>7.389526</td>\n",
       "      <td>0.986820</td>\n",
       "      <td>99.789989</td>\n",
       "      <td>0.112606</td>\n",
       "      <td>ball</td>\n",
       "    </tr>\n",
       "    <tr>\n",
       "      <th>2</th>\n",
       "      <td>13.690172</td>\n",
       "      <td>0.994170</td>\n",
       "      <td>162.254310</td>\n",
       "      <td>0.084688</td>\n",
       "      <td>hit_into_play</td>\n",
       "    </tr>\n",
       "    <tr>\n",
       "      <th>3</th>\n",
       "      <td>21.226712</td>\n",
       "      <td>0.988464</td>\n",
       "      <td>118.585723</td>\n",
       "      <td>0.104180</td>\n",
       "      <td>hit_into_play</td>\n",
       "    </tr>\n",
       "    <tr>\n",
       "      <th>4</th>\n",
       "      <td>15.912408</td>\n",
       "      <td>0.989651</td>\n",
       "      <td>174.722999</td>\n",
       "      <td>0.109520</td>\n",
       "      <td>foul</td>\n",
       "    </tr>\n",
       "    <tr>\n",
       "      <th>...</th>\n",
       "      <td>...</td>\n",
       "      <td>...</td>\n",
       "      <td>...</td>\n",
       "      <td>...</td>\n",
       "      <td>...</td>\n",
       "    </tr>\n",
       "    <tr>\n",
       "      <th>195</th>\n",
       "      <td>23.801676</td>\n",
       "      <td>0.999601</td>\n",
       "      <td>90.961732</td>\n",
       "      <td>0.126544</td>\n",
       "      <td>called_strike</td>\n",
       "    </tr>\n",
       "    <tr>\n",
       "      <th>196</th>\n",
       "      <td>12.965349</td>\n",
       "      <td>0.987085</td>\n",
       "      <td>100.343663</td>\n",
       "      <td>0.227897</td>\n",
       "      <td>hit_into_play</td>\n",
       "    </tr>\n",
       "    <tr>\n",
       "      <th>197</th>\n",
       "      <td>16.370888</td>\n",
       "      <td>0.994124</td>\n",
       "      <td>110.105946</td>\n",
       "      <td>0.108508</td>\n",
       "      <td>foul</td>\n",
       "    </tr>\n",
       "    <tr>\n",
       "      <th>198</th>\n",
       "      <td>6.308718</td>\n",
       "      <td>0.994659</td>\n",
       "      <td>142.308147</td>\n",
       "      <td>0.166670</td>\n",
       "      <td>called_strike</td>\n",
       "    </tr>\n",
       "    <tr>\n",
       "      <th>199</th>\n",
       "      <td>17.754967</td>\n",
       "      <td>0.984154</td>\n",
       "      <td>136.502515</td>\n",
       "      <td>0.216536</td>\n",
       "      <td>ball</td>\n",
       "    </tr>\n",
       "  </tbody>\n",
       "</table>\n",
       "<p>200 rows × 5 columns</p>\n",
       "</div>"
      ],
      "text/plain": [
       "     leg_angle  arm_symmetry  elbow_angle  hip_twist    description\n",
       "0     9.188042      0.985855   152.651703   0.132142           ball\n",
       "1     7.389526      0.986820    99.789989   0.112606           ball\n",
       "2    13.690172      0.994170   162.254310   0.084688  hit_into_play\n",
       "3    21.226712      0.988464   118.585723   0.104180  hit_into_play\n",
       "4    15.912408      0.989651   174.722999   0.109520           foul\n",
       "..         ...           ...          ...        ...            ...\n",
       "195  23.801676      0.999601    90.961732   0.126544  called_strike\n",
       "196  12.965349      0.987085   100.343663   0.227897  hit_into_play\n",
       "197  16.370888      0.994124   110.105946   0.108508           foul\n",
       "198   6.308718      0.994659   142.308147   0.166670  called_strike\n",
       "199  17.754967      0.984154   136.502515   0.216536           ball\n",
       "\n",
       "[200 rows x 5 columns]"
      ]
     },
     "execution_count": 121,
     "metadata": {},
     "output_type": "execute_result"
    }
   ],
   "source": [
    "pose_feat['video_filename'] = pose_feat.index.map(lambda i: f'pitch_{i+1:04d}.mp4')\n",
    "merged_df = pd.merge(pose_feat, csv_feat, on='video_filename', how='inner') \n",
    "merged_df = merged_df[['leg_angle','arm_symmetry','elbow_angle','hip_twist','description']]\n",
    "merged_df"
   ]
  },
  {
   "cell_type": "markdown",
   "id": "a2a15700",
   "metadata": {},
   "source": [
    "# 相關性檢查"
   ]
  },
  {
   "cell_type": "code",
   "execution_count": 122,
   "id": "b1811628",
   "metadata": {},
   "outputs": [
    {
     "data": {
      "text/html": [
       "<div>\n",
       "<style scoped>\n",
       "    .dataframe tbody tr th:only-of-type {\n",
       "        vertical-align: middle;\n",
       "    }\n",
       "\n",
       "    .dataframe tbody tr th {\n",
       "        vertical-align: top;\n",
       "    }\n",
       "\n",
       "    .dataframe thead th {\n",
       "        text-align: right;\n",
       "    }\n",
       "</style>\n",
       "<table border=\"1\" class=\"dataframe\">\n",
       "  <thead>\n",
       "    <tr style=\"text-align: right;\">\n",
       "      <th></th>\n",
       "      <th>leg_angle</th>\n",
       "      <th>arm_symmetry</th>\n",
       "      <th>elbow_angle</th>\n",
       "      <th>hip_twist</th>\n",
       "    </tr>\n",
       "  </thead>\n",
       "  <tbody>\n",
       "    <tr>\n",
       "      <th>leg_angle</th>\n",
       "      <td>1.000000</td>\n",
       "      <td>-0.000719</td>\n",
       "      <td>-0.099099</td>\n",
       "      <td>-0.186883</td>\n",
       "    </tr>\n",
       "    <tr>\n",
       "      <th>arm_symmetry</th>\n",
       "      <td>-0.000719</td>\n",
       "      <td>1.000000</td>\n",
       "      <td>-0.116797</td>\n",
       "      <td>0.068838</td>\n",
       "    </tr>\n",
       "    <tr>\n",
       "      <th>elbow_angle</th>\n",
       "      <td>-0.099099</td>\n",
       "      <td>-0.116797</td>\n",
       "      <td>1.000000</td>\n",
       "      <td>-0.010973</td>\n",
       "    </tr>\n",
       "    <tr>\n",
       "      <th>hip_twist</th>\n",
       "      <td>-0.186883</td>\n",
       "      <td>0.068838</td>\n",
       "      <td>-0.010973</td>\n",
       "      <td>1.000000</td>\n",
       "    </tr>\n",
       "  </tbody>\n",
       "</table>\n",
       "</div>"
      ],
      "text/plain": [
       "              leg_angle  arm_symmetry  elbow_angle  hip_twist\n",
       "leg_angle      1.000000     -0.000719    -0.099099  -0.186883\n",
       "arm_symmetry  -0.000719      1.000000    -0.116797   0.068838\n",
       "elbow_angle   -0.099099     -0.116797     1.000000  -0.010973\n",
       "hip_twist     -0.186883      0.068838    -0.010973   1.000000"
      ]
     },
     "execution_count": 122,
     "metadata": {},
     "output_type": "execute_result"
    }
   ],
   "source": [
    "merged_df[[\t'leg_angle','arm_symmetry','elbow_angle','hip_twist']].corr()"
   ]
  },
  {
   "cell_type": "markdown",
   "id": "a80a10ba",
   "metadata": {},
   "source": [
    "變量之間沒啥關聯"
   ]
  },
  {
   "cell_type": "markdown",
   "id": "c4674f80",
   "metadata": {},
   "source": [
    "# 直方圖分析"
   ]
  },
  {
   "cell_type": "code",
   "execution_count": 123,
   "id": "40a5ddab",
   "metadata": {},
   "outputs": [
    {
     "data": {
      "text/plain": [
       "array([[<Axes: title={'center': 'leg_angle'}>,\n",
       "        <Axes: title={'center': 'arm_symmetry'}>],\n",
       "       [<Axes: title={'center': 'elbow_angle'}>,\n",
       "        <Axes: title={'center': 'hip_twist'}>]], dtype=object)"
      ]
     },
     "execution_count": 123,
     "metadata": {},
     "output_type": "execute_result"
    },
    {
     "data": {
      "image/png": "[encoded data removed]",
      "text/plain": [
       "<Figure size 640x480 with 4 Axes>"
      ]
     },
     "metadata": {},
     "output_type": "display_data"
    }
   ],
   "source": [
    "merged_df[[\t'leg_angle','arm_symmetry','elbow_angle','hip_twist']].hist()"
   ]
  },
  {
   "cell_type": "markdown",
   "id": "d2abd1ba",
   "metadata": {},
   "source": [
    "# 類別變數分析"
   ]
  },
  {
   "cell_type": "code",
   "execution_count": 124,
   "id": "7625316f",
   "metadata": {},
   "outputs": [
    {
     "data": {
      "image/png": "[encoded data removed]",
      "text/plain": [
       "<Figure size 640x480 with 1 Axes>"
      ]
     },
     "metadata": {},
     "output_type": "display_data"
    }
   ],
   "source": [
    "import matplotlib.pyplot as plt\n",
    "import seaborn as sns\n",
    "\n",
    "sns.countplot(x='description', data=merged_df)\n",
    "plt.xticks(rotation=45)  # 如果類別名稱很長可旋轉\n",
    "plt.title('Category Distribution')\n",
    "plt.show()\n"
   ]
  },
  {
   "cell_type": "code",
   "execution_count": 125,
   "id": "55d8ba23",
   "metadata": {},
   "outputs": [
    {
     "data": {
      "text/plain": [
       "description\n",
       "ball               65\n",
       "foul               50\n",
       "hit_into_play      30\n",
       "called_strike      28\n",
       "swinging_strike    19\n",
       "foul_tip            6\n",
       "foul_bunt           1\n",
       "hit_by_pitch        1\n",
       "Name: count, dtype: int64"
      ]
     },
     "execution_count": 125,
     "metadata": {},
     "output_type": "execute_result"
    }
   ],
   "source": [
    "merged_df['description'].value_counts()"
   ]
  },
  {
   "cell_type": "markdown",
   "id": "ccecaec9",
   "metadata": {},
   "source": [
    "# 前處理"
   ]
  },
  {
   "cell_type": "code",
   "execution_count": 126,
   "id": "bca3030b",
   "metadata": {},
   "outputs": [
    {
     "name": "stdout",
     "output_type": "stream",
     "text": [
      "   leg_angle  arm_symmetry  elbow_angle  hip_twist    description\n",
      "0  -0.746883     -0.397618     0.787770   0.222891           ball\n",
      "1  -0.928541     -0.295476    -0.859185  -0.434851           ball\n",
      "2  -0.292151      0.482334     1.086949  -1.374801  hit_into_play\n",
      "3   0.469070     -0.121445    -0.273587  -0.718544  hit_into_play\n",
      "4  -0.067696      0.004156     1.475422  -0.538745           foul\n"
     ]
    }
   ],
   "source": [
    "from sklearn.preprocessing import StandardScaler\n",
    "scaler = StandardScaler()\n",
    "# 對數值特徵進行標準化\n",
    "scaled_features = scaler.fit_transform(merged_df[['leg_angle', 'arm_symmetry', 'elbow_angle', 'hip_twist']])\n",
    "# 將標準化後的特徵轉換回 DataFrame\n",
    "scaled_df = pd.DataFrame(scaled_features, columns=['leg_angle', 'arm_symmetry', 'elbow_angle', 'hip_twist'])\n",
    "# 將標準化後的特徵與描述合併\n",
    "scaled_df['description'] = merged_df['description'].values\n",
    "# 顯示標準化後的特徵\n",
    "print(scaled_df.head())"
   ]
  },
  {
   "cell_type": "code",
   "execution_count": 127,
   "id": "78261fd8",
   "metadata": {},
   "outputs": [
    {
     "name": "stdout",
     "output_type": "stream",
     "text": [
      "   leg_angle  arm_symmetry  elbow_angle  hip_twist  description\n",
      "0  -0.746883     -0.397618     0.787770   0.222891            0\n",
      "1  -0.928541     -0.295476    -0.859185  -0.434851            0\n",
      "2  -0.292151      0.482334     1.086949  -1.374801            6\n",
      "3   0.469070     -0.121445    -0.273587  -0.718544            6\n",
      "4  -0.067696      0.004156     1.475422  -0.538745            2\n",
      "Label mapping: {'ball': 0, 'called_strike': 1, 'foul': 2, 'foul_bunt': 3, 'foul_tip': 4, 'hit_by_pitch': 5, 'hit_into_play': 6, 'swinging_strike': 7}\n"
     ]
    }
   ],
   "source": [
    "import pandas as pd\n",
    "from sklearn.preprocessing import LabelEncoder\n",
    "\n",
    "# 初始化 LabelEncoder\n",
    "le = LabelEncoder()\n",
    "\n",
    "# 對 y 欄位進行 label encoding\n",
    "scaled_df['description'] = le.fit_transform(scaled_df['description'])\n",
    "\n",
    "# 若想保留 label 對應關係，可使用以下方式列出\n",
    "label_mapping = dict(zip(le.classes_, le.transform(le.classes_)))\n",
    "\n",
    "print(scaled_df.head())\n",
    "print(\"Label mapping:\", label_mapping)\n"
   ]
  },
  {
   "cell_type": "markdown",
   "id": "3f3da5a9",
   "metadata": {},
   "source": [
    "# 特徵分析"
   ]
  },
  {
   "cell_type": "code",
   "execution_count": 128,
   "id": "d2010182",
   "metadata": {},
   "outputs": [
    {
     "data": {
      "text/html": [
       "<div>\n",
       "<style scoped>\n",
       "    .dataframe tbody tr th:only-of-type {\n",
       "        vertical-align: middle;\n",
       "    }\n",
       "\n",
       "    .dataframe tbody tr th {\n",
       "        vertical-align: top;\n",
       "    }\n",
       "\n",
       "    .dataframe thead th {\n",
       "        text-align: right;\n",
       "    }\n",
       "</style>\n",
       "<table border=\"1\" class=\"dataframe\">\n",
       "  <thead>\n",
       "    <tr style=\"text-align: right;\">\n",
       "      <th></th>\n",
       "      <th>feature</th>\n",
       "      <th>F_stat</th>\n",
       "      <th>p_value</th>\n",
       "    </tr>\n",
       "  </thead>\n",
       "  <tbody>\n",
       "    <tr>\n",
       "      <th>3</th>\n",
       "      <td>hip_twist</td>\n",
       "      <td>1.344463</td>\n",
       "      <td>0.231390</td>\n",
       "    </tr>\n",
       "    <tr>\n",
       "      <th>2</th>\n",
       "      <td>elbow_angle</td>\n",
       "      <td>1.175546</td>\n",
       "      <td>0.318568</td>\n",
       "    </tr>\n",
       "    <tr>\n",
       "      <th>0</th>\n",
       "      <td>leg_angle</td>\n",
       "      <td>1.173065</td>\n",
       "      <td>0.320013</td>\n",
       "    </tr>\n",
       "    <tr>\n",
       "      <th>1</th>\n",
       "      <td>arm_symmetry</td>\n",
       "      <td>1.139076</td>\n",
       "      <td>0.340292</td>\n",
       "    </tr>\n",
       "  </tbody>\n",
       "</table>\n",
       "</div>"
      ],
      "text/plain": [
       "        feature    F_stat   p_value\n",
       "3     hip_twist  1.344463  0.231390\n",
       "2   elbow_angle  1.175546  0.318568\n",
       "0     leg_angle  1.173065  0.320013\n",
       "1  arm_symmetry  1.139076  0.340292"
      ]
     },
     "execution_count": 128,
     "metadata": {},
     "output_type": "execute_result"
    }
   ],
   "source": [
    "import pandas as pd\n",
    "from scipy.stats import f_oneway\n",
    "\n",
    "# 假設你的 DataFrame 是 df\n",
    "# 類別欄位\n",
    "target_col = 'description'\n",
    "\n",
    "# 數值欄位，排除 description\n",
    "num_cols = scaled_df.drop(columns=['description']).columns.tolist()\n",
    "\n",
    "anova_results = []\n",
    "\n",
    "for col in num_cols:\n",
    "    groups = [scaled_df[scaled_df[target_col] == cat][col].dropna() for cat in scaled_df[target_col].unique()]\n",
    "    F, p = f_oneway(*groups)\n",
    "    anova_results.append({'feature': col, 'F_stat': F, 'p_value': p})\n",
    "\n",
    "# 轉成 DataFrame 並排序\n",
    "anova_df = pd.DataFrame(anova_results)\n",
    "anova_df = anova_df.sort_values(by='F_stat', ascending=False)\n",
    "anova_df\n"
   ]
  },
  {
   "cell_type": "markdown",
   "id": "cec0ce43",
   "metadata": {},
   "source": [
    "# 建模"
   ]
  },
  {
   "cell_type": "code",
   "execution_count": 129,
   "id": "982701ed",
   "metadata": {},
   "outputs": [
    {
     "name": "stdout",
     "output_type": "stream",
     "text": [
      "SVM - Accuracy: 0.3485\n",
      "LogisticRegression - Accuracy: 0.3333\n",
      "MLP - Accuracy: 0.2727\n",
      "XGBoost - Accuracy: 0.3030\n"
     ]
    }
   ],
   "source": [
    "from sklearn.svm import SVC\n",
    "from sklearn.linear_model import LogisticRegression\n",
    "from sklearn.neural_network import MLPClassifier\n",
    "from xgboost import XGBClassifier\n",
    "from sklearn.model_selection import cross_val_score\n",
    "from sklearn.model_selection import train_test_split\n",
    "import warnings \n",
    "warnings.filterwarnings('ignore')\n",
    "\n",
    "models = {\n",
    "    \"SVM\": SVC(probability=False, random_state=42),\n",
    "    \"LogisticRegression\": LogisticRegression(max_iter=1000, random_state=42),\n",
    "    \"MLP\": MLPClassifier(hidden_layer_sizes=(100,), max_iter=300, random_state=42),\n",
    "    \"XGBoost\": XGBClassifier(random_state=42),\n",
    "}\n",
    "\n",
    "X = scaled_df.drop(columns=['description'])\n",
    "y = scaled_df['description']\n",
    "X_train, X_test, y_train, y_test = train_test_split(X, y, test_size=0.33, random_state=42)\n",
    "for name, model in models.items():\n",
    "    model.fit(X_train, y_train)\n",
    "    accuracy = model.score(X_test, y_test)\n",
    "    print(f\"{name} - Accuracy: {accuracy:.4f}\")\n"
   ]
  },
  {
   "cell_type": "code",
   "execution_count": null,
   "id": "f2718dcc",
   "metadata": {},
   "outputs": [],
   "source": []
  }
 ],
 "metadata": {
  "kernelspec": {
   "display_name": "pitch_pose_tcn",
   "language": "python",
   "name": "python3"
  },
  "language_info": {
   "codemirror_mode": {
    "name": "ipython",
    "version": 3
   },
   "file_extension": ".py",
   "mimetype": "text/x-python",
   "name": "python",
   "nbconvert_exporter": "python",
   "pygments_lexer": "ipython3",
   "version": "3.9.21"
  }
 },
 "nbformat": 4,
 "nbformat_minor": 5
}
